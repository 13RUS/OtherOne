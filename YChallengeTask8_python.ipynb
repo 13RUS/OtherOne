{
 "cells": [
  {
   "cell_type": "code",
   "execution_count": 1,
   "id": "eeb51e65",
   "metadata": {},
   "outputs": [],
   "source": [
    "import pandas as pd\n",
    "import numpy as np\n",
    "import matplotlib.pyplot as plt\n",
    "%matplotlib inline"
   ]
  },
  {
   "cell_type": "markdown",
   "id": "98b7385d",
   "metadata": {},
   "source": [
    "# 1. Проверка гипотизы"
   ]
  },
  {
   "cell_type": "code",
   "execution_count": 3,
   "id": "1463e74f",
   "metadata": {},
   "outputs": [],
   "source": [
    "df = pd.read_csv(\"data.csv\")"
   ]
  },
  {
   "cell_type": "code",
   "execution_count": 4,
   "id": "67ba484a",
   "metadata": {},
   "outputs": [],
   "source": [
    "df_agg = df.groupby(['cutlery'], as_index=False).agg({'tips': ['mean']})"
   ]
  },
  {
   "cell_type": "code",
   "execution_count": 5,
   "id": "398a8cf5",
   "metadata": {},
   "outputs": [
    {
     "data": {
      "image/png": "[encoded data removed]",
      "text/plain": [
       "<Figure size 432x288 with 1 Axes>"
      ]
     },
     "metadata": {
      "needs_background": "light"
     },
     "output_type": "display_data"
    }
   ],
   "source": [
    "plt.xlabel('К-во приборов')\n",
    "plt.ylabel('Чаевые')\n",
    "plt.bar(df_agg['cutlery'], df_agg['tips']['mean'])\n",
    "plt.plot(range(1, len(df_agg) + 1), \n",
    "         [df_agg.loc[df_agg['cutlery'] == 1]['tips']['mean'][0]] * len(df_agg), \n",
    "         color = 'red')\n",
    "plt.show()"
   ]
  },
  {
   "cell_type": "markdown",
   "id": "ab93afa1",
   "metadata": {},
   "source": [
    "# 2. К-во уникальных пользователей "
   ]
  },
  {
   "cell_type": "code",
   "execution_count": 6,
   "id": "2afa83ac",
   "metadata": {},
   "outputs": [],
   "source": [
    "df_new = df.loc[(df['cutlery'] > 2) & (df['order_price'] > 800)]"
   ]
  },
  {
   "cell_type": "code",
   "execution_count": 7,
   "id": "07ae3200",
   "metadata": {},
   "outputs": [
    {
     "name": "stderr",
     "output_type": "stream",
     "text": [
      "/var/folders/cp/s21xrmmd6nd2fh8yg04bfv6c0000gn/T/ipykernel_84312/1956570712.py:1: SettingWithCopyWarning: \n",
      "A value is trying to be set on a copy of a slice from a DataFrame.\n",
      "Try using .loc[row_indexer,col_indexer] = value instead\n",
      "\n",
      "See the caveats in the documentation: https://pandas.pydata.org/pandas-docs/stable/user_guide/indexing.html#returning-a-view-versus-a-copy\n",
      "  df_new['date'] = pd.to_datetime(df_new['date'])\n"
     ]
    }
   ],
   "source": [
    "df_new['date'] = pd.to_datetime(df_new['date'])"
   ]
  },
  {
   "cell_type": "code",
   "execution_count": 8,
   "id": "b79bd7a7",
   "metadata": {},
   "outputs": [],
   "source": [
    "df_new = df_new.loc[(df_new['date'] > '2022-01-09 00:00:00')]"
   ]
  },
  {
   "cell_type": "code",
   "execution_count": 9,
   "id": "8754ea61",
   "metadata": {},
   "outputs": [
    {
     "name": "stdout",
     "output_type": "stream",
     "text": [
      "2607\n"
     ]
    }
   ],
   "source": [
    "print(df_new['uid'].nunique())"
   ]
  },
  {
   "cell_type": "code",
   "execution_count": null,
   "id": "48de08b0",
   "metadata": {},
   "outputs": [],
   "source": []
  }
 ],
 "metadata": {
  "kernelspec": {
   "display_name": "Python 3 (ipykernel)",
   "language": "python",
   "name": "python3"
  },
  "language_info": {
   "codemirror_mode": {
    "name": "ipython",
    "version": 3
   },
   "file_extension": ".py",
   "mimetype": "text/x-python",
   "name": "python",
   "nbconvert_exporter": "python",
   "pygments_lexer": "ipython3",
   "version": "3.9.7"
  }
 },
 "nbformat": 4,
 "nbformat_minor": 5
}
